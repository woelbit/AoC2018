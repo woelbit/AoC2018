{
 "cells": [
  {
   "cell_type": "markdown",
   "metadata": {},
   "source": [
    "# Day 1"
   ]
  },
  {
   "cell_type": "code",
   "execution_count": 1,
   "metadata": {},
   "outputs": [],
   "source": [
    "with open('inputs/day_1.txt') as f:\n",
    "    lines = f.readlines()"
   ]
  },
  {
   "cell_type": "code",
   "execution_count": 2,
   "metadata": {},
   "outputs": [
    {
     "data": {
      "text/plain": [
       "553"
      ]
     },
     "execution_count": 2,
     "metadata": {},
     "output_type": "execute_result"
    }
   ],
   "source": [
    "sum(int(line) for line in lines)"
   ]
  },
  {
   "cell_type": "code",
   "execution_count": 3,
   "metadata": {},
   "outputs": [
    {
     "name": "stdout",
     "output_type": "stream",
     "text": [
      "78724\n"
     ]
    }
   ],
   "source": [
    "from itertools import cycle\n",
    "\n",
    "current_frequency = 0\n",
    "seen_frequencies = {0}\n",
    "\n",
    "for line in cycle(lines):\n",
    "    current_frequency += int(line)\n",
    "    if current_frequency in seen_frequencies:\n",
    "        print(current_frequency)\n",
    "        break\n",
    "    seen_frequencies.add(current_frequency)"
   ]
  },
  {
   "cell_type": "markdown",
   "metadata": {},
   "source": [
    "# Day 2"
   ]
  },
  {
   "cell_type": "code",
   "execution_count": 4,
   "metadata": {},
   "outputs": [],
   "source": [
    "with open('inputs/day_2.txt', 'r') as f:\n",
    "    box_ids = f.readlines()\n",
    "    \n",
    "box_ids = [box_id.strip() for box_id in box_ids]"
   ]
  },
  {
   "cell_type": "code",
   "execution_count": 5,
   "metadata": {},
   "outputs": [
    {
     "data": {
      "text/plain": [
       "7192"
      ]
     },
     "execution_count": 5,
     "metadata": {},
     "output_type": "execute_result"
    }
   ],
   "source": [
    "from collections import Counter\n",
    "\n",
    "num_twos = sum(2 in Counter(box_id).values() for box_id in box_ids)\n",
    "num_threes = sum(3 in Counter(box_id).values() for box_id in box_ids)\n",
    "\n",
    "num_twos * num_threes"
   ]
  },
  {
   "cell_type": "code",
   "execution_count": 6,
   "metadata": {},
   "outputs": [
    {
     "name": "stdout",
     "output_type": "stream",
     "text": [
      "mbruvapghxlzycbhmfqjonsie\n"
     ]
    }
   ],
   "source": [
    "from itertools import combinations\n",
    "\n",
    "def distance(box_id_1, box_id_2):\n",
    "    return sum(i != j for i,j in zip(box_id_1, box_id_2))\n",
    "\n",
    "for id_1, id_2 in combinations(box_ids, 2):\n",
    "    if distance(id_1, id_2) == 1:\n",
    "        print(''.join(i for i, j in zip(id_1, id_2) if i == j))"
   ]
  },
  {
   "cell_type": "markdown",
   "metadata": {},
   "source": [
    "# Day 3"
   ]
  },
  {
   "cell_type": "code",
   "execution_count": 7,
   "metadata": {},
   "outputs": [],
   "source": [
    "import re as witchcraft\n",
    "from itertools import product\n",
    "from collections import Counter, defaultdict"
   ]
  },
  {
   "cell_type": "code",
   "execution_count": 8,
   "metadata": {},
   "outputs": [],
   "source": [
    "with open('inputs/day_3.txt', 'r') as f:\n",
    "    claims = f.readlines()\n",
    "    \n",
    "claims = [claim.strip() for claim in claims]"
   ]
  },
  {
   "cell_type": "code",
   "execution_count": 9,
   "metadata": {},
   "outputs": [],
   "source": [
    "regex = witchcraft.compile(\n",
    "    r'^#(?P<claim_id>\\d+) @ (?P<delta_left>\\d+),(?P<delta_top>\\d+): (?P<width>\\d+)x(?P<height>\\d+)$'\n",
    ")"
   ]
  },
  {
   "cell_type": "code",
   "execution_count": 10,
   "metadata": {},
   "outputs": [
    {
     "data": {
      "text/plain": [
       "110195"
      ]
     },
     "execution_count": 10,
     "metadata": {},
     "output_type": "execute_result"
    }
   ],
   "source": [
    "used_fields = Counter()\n",
    "for claim in claims:\n",
    "    match = regex.match(claim).groupdict()\n",
    "    used_fields.update(\n",
    "        product(\n",
    "            range(int(match['delta_left']), int(match['delta_left']) + int(match['width'])),\n",
    "            range(int(match['delta_top']), int(match['delta_top']) + int(match['height'])),\n",
    "        )\n",
    "    )\n",
    "    \n",
    "len([count for count in used_fields.values() if count > 1])"
   ]
  },
  {
   "cell_type": "code",
   "execution_count": 11,
   "metadata": {},
   "outputs": [
    {
     "data": {
      "text/plain": [
       "{'894'}"
      ]
     },
     "execution_count": 11,
     "metadata": {},
     "output_type": "execute_result"
    }
   ],
   "source": [
    "claims_by_point = defaultdict(list)\n",
    "potential_claim_ids = set()\n",
    "\n",
    "for claim in claims:\n",
    "    match = regex.match(claim).groupdict()\n",
    "    \n",
    "    potential_claim_ids.add(match['claim_id'])\n",
    "    points = product(\n",
    "        range(int(match['delta_left']), int(match['delta_left']) + int(match['width'])),\n",
    "        range(int(match['delta_top']), int(match['delta_top']) + int(match['height'])),\n",
    "    )\n",
    "    \n",
    "    for point in points:\n",
    "        claims_by_point[point].append(match['claim_id'])\n",
    "\n",
    "for _, c in claims_by_point.items():\n",
    "    if len(c) > 1:\n",
    "        potential_claim_ids -= set(c)\n",
    "\n",
    "potential_claim_ids"
   ]
  }
 ],
 "metadata": {
  "kernelspec": {
   "display_name": "Python 3",
   "language": "python",
   "name": "python3"
  },
  "language_info": {
   "codemirror_mode": {
    "name": "ipython",
    "version": 3
   },
   "file_extension": ".py",
   "mimetype": "text/x-python",
   "name": "python",
   "nbconvert_exporter": "python",
   "pygments_lexer": "ipython3",
   "version": "3.7.1"
  }
 },
 "nbformat": 4,
 "nbformat_minor": 2
}
